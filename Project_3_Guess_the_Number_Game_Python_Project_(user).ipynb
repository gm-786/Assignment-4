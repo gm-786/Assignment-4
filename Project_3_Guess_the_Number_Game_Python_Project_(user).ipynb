{
  "nbformat": 4,
  "nbformat_minor": 0,
  "metadata": {
    "colab": {
      "provenance": [],
      "authorship_tag": "ABX9TyOSMbGKUsD1MxEKNfwddzXG",
      "include_colab_link": true
    },
    "kernelspec": {
      "name": "python3",
      "display_name": "Python 3"
    },
    "language_info": {
      "name": "python"
    }
  },
  "cells": [
    {
      "cell_type": "markdown",
      "metadata": {
        "id": "view-in-github",
        "colab_type": "text"
      },
      "source": [
        "<a href=\"https://colab.research.google.com/github/gm-786/Assignment-4/blob/main/Project_3_Guess_the_Number_Game_Python_Project_(user).ipynb\" target=\"_parent\"><img src=\"https://colab.research.google.com/assets/colab-badge.svg\" alt=\"Open In Colab\"/></a>"
      ]
    },
    {
      "cell_type": "code",
      "execution_count": null,
      "metadata": {
        "colab": {
          "base_uri": "https://localhost:8080/"
        },
        "id": "2RZhIGtFodj_",
        "outputId": "6f34acf5-e375-4ec4-b475-2621cfbd4468"
      },
      "outputs": [
        {
          "output_type": "stream",
          "name": "stdout",
          "text": [
            "Welcome to the Number Guessing Game!\n",
            "I have secret number between 1 and 10. Can you guess it?\n",
            "Enter your guess:3\n",
            "Too Low Try again.\n",
            "Enter your guess:5\n",
            "Too Low Try again.\n",
            "Enter your guess:7\n",
            "Congratulations! You've guessed the number!\n"
          ]
        }
      ],
      "source": [
        "import random\n",
        "\n",
        "print(\"Welcome to the Number Guessing Game!\")\n",
        "\n",
        "secret_number = random.randint(1,10)\n",
        "print(\"I have secret number between 1 and 10. Can you guess it?\")\n",
        "\n",
        "while True:\n",
        "    try:\n",
        "        guess = int(input(\"Enter your guess:\"))\n",
        "        if guess > secret_number:\n",
        "            print(\"Too high! Try again.\")\n",
        "        elif guess < secret_number:\n",
        "            print(\"Too Low Try again.\")\n",
        "        else:\n",
        "            print(\"Congratulations! You've guessed the number!\")\n",
        "            break\n",
        "    except ValueError:\n",
        "        print(\"Invalid input. Please enter a number between 1 and 10.\")"
      ]
    }
  ]
}