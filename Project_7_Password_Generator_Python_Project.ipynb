{
  "nbformat": 4,
  "nbformat_minor": 0,
  "metadata": {
    "colab": {
      "provenance": [],
      "authorship_tag": "ABX9TyM1z2nGarh3WGpcuEabfnxX",
      "include_colab_link": true
    },
    "kernelspec": {
      "name": "python3",
      "display_name": "Python 3"
    },
    "language_info": {
      "name": "python"
    }
  },
  "cells": [
    {
      "cell_type": "markdown",
      "metadata": {
        "id": "view-in-github",
        "colab_type": "text"
      },
      "source": [
        "<a href=\"https://colab.research.google.com/github/gm-786/Assignment-4/blob/main/Project_7_Password_Generator_Python_Project.ipynb\" target=\"_parent\"><img src=\"https://colab.research.google.com/assets/colab-badge.svg\" alt=\"Open In Colab\"/></a>"
      ]
    },
    {
      "cell_type": "code",
      "execution_count": null,
      "metadata": {
        "colab": {
          "base_uri": "https://localhost:8080/"
        },
        "id": "0n9EoTT75voW",
        "outputId": "dd97e601-4811-4085-8d0d-0c5b12a0fb4d"
      },
      "outputs": [
        {
          "output_type": "stream",
          "name": "stdout",
          "text": [
            "Password Generator\n",
            "--------------------\n",
            "Enter the length of your desired password: 9\n",
            "Use uppercase letters? (y/n): y\n",
            "Use numbers? (y/n): y\n",
            "Use punctuation? (y/n): n\n",
            "Your Desired Generated Password: EJgaS5C3R\n"
          ]
        }
      ],
      "source": [
        "import random\n",
        "import string\n",
        "\n",
        "def generate_password(length=12, use_uppercase=True, use_numbers=True, use_punctuation=True):\n",
        "    characters = string.ascii_lowercase\n",
        "    if use_uppercase:\n",
        "        characters += string.ascii_uppercase\n",
        "    if use_numbers:\n",
        "        characters += string.digits\n",
        "    if use_punctuation:\n",
        "        characters += string.punctuation\n",
        "\n",
        "    password = ''.join(random.choice(characters) for _ in range(length))\n",
        "    return password\n",
        "\n",
        "def main():\n",
        "    print(\"Password Generator\")\n",
        "    print(\"--------------------\")\n",
        "\n",
        "    length = int(input(\"Enter the length of your desired password: \"))\n",
        "\n",
        "    use_uppercase = input(\"Use uppercase letters? (y/n): \").lower() == 'y'\n",
        "    use_numbers = input(\"Use numbers? (y/n): \").lower() == 'y'\n",
        "    use_punctuation = input(\"Use punctuation? (y/n): \").lower() == 'y'\n",
        "    password = generate_password(length, use_uppercase, use_numbers, use_punctuation)\n",
        "\n",
        "    print(\"Your Desired Generated Password:\", password)\n",
        "\n",
        "if __name__ == \"__main__\":\n",
        "    main()\n",
        "\n"
      ]
    }
  ]
}