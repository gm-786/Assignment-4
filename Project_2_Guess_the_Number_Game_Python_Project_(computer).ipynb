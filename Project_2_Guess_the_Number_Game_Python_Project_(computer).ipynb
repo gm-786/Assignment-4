{
  "nbformat": 4,
  "nbformat_minor": 0,
  "metadata": {
    "colab": {
      "provenance": [],
      "authorship_tag": "ABX9TyPUSCvEqh1PEDaGGcehyJ3u",
      "include_colab_link": true
    },
    "kernelspec": {
      "name": "python3",
      "display_name": "Python 3"
    },
    "language_info": {
      "name": "python"
    }
  },
  "cells": [
    {
      "cell_type": "markdown",
      "metadata": {
        "id": "view-in-github",
        "colab_type": "text"
      },
      "source": [
        "<a href=\"https://colab.research.google.com/github/gm-786/Assignment-4/blob/main/Project_2_Guess_the_Number_Game_Python_Project_(computer).ipynb\" target=\"_parent\"><img src=\"https://colab.research.google.com/assets/colab-badge.svg\" alt=\"Open In Colab\"/></a>"
      ]
    },
    {
      "cell_type": "code",
      "execution_count": null,
      "metadata": {
        "colab": {
          "base_uri": "https://localhost:8080/"
        },
        "id": "NYu507eZh2Df",
        "outputId": "b7251de6-9027-4eba-cea5-7e3376fe9ec5"
      },
      "outputs": [
        {
          "output_type": "stream",
          "name": "stdout",
          "text": [
            "Welcome to the number guessing game!\n",
            "Think of a number between 1 to 10 and the computer will try to guess it!\n",
            "Computer's guess is: 2\n",
            "Is the guess too high (H), too low (L), or correct (C)? L\n",
            "Computer's guess is: 9\n",
            "Is the guess too high (H), too low (L), or correct (C)? H\n",
            "Computer's guess is: 5\n",
            "Is the guess too high (H), too low (L), or correct (C)? C\n",
            "Yay! The computer guessed your number correctly!\n"
          ]
        }
      ],
      "source": [
        "import random\n",
        "\n",
        "print(\"Welcome to the number guessing game!\")\n",
        "\n",
        "low = 1\n",
        "high = 10\n",
        "\n",
        "print(\"Think of a number between 1 to 10 and the computer will try to guess it!\")\n",
        "\n",
        "while True:\n",
        "    if low > high:\n",
        "        print(\"The number seems out of range or there was a mistake. Please try again.\")\n",
        "        break\n",
        "\n",
        "    guess = random.randint(low, high)\n",
        "    print(\"Computer's guess is:\", guess)\n",
        "\n",
        "    feedback = input(\"Is the guess too high (H), too low (L), or correct (C)? \").strip().upper()\n",
        "\n",
        "    if feedback == 'C':\n",
        "        print(\"Yay! The computer guessed your number correctly!\")\n",
        "        break\n",
        "    elif feedback == 'H':\n",
        "        high = guess - 1\n",
        "    elif feedback == 'L':\n",
        "        low = guess + 1\n",
        "    else:\n",
        "        print(\"Invalid input. Please enter H, L, or C.\")\n",
        "\n",
        "\n",
        "    if low > high:\n",
        "       print(\"The number is not in the range. Please try again.\")\n",
        "\n",
        "\n"
      ]
    }
  ]
}