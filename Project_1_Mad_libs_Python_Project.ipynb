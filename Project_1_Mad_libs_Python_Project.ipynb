{
  "nbformat": 4,
  "nbformat_minor": 0,
  "metadata": {
    "colab": {
      "provenance": [],
      "authorship_tag": "ABX9TyP0LhZylYbVxa+pOQTT/R37",
      "include_colab_link": true
    },
    "kernelspec": {
      "name": "python3",
      "display_name": "Python 3"
    },
    "language_info": {
      "name": "python"
    }
  },
  "cells": [
    {
      "cell_type": "markdown",
      "metadata": {
        "id": "view-in-github",
        "colab_type": "text"
      },
      "source": [
        "<a href=\"https://colab.research.google.com/github/gm-786/Assignment-4/blob/main/Project_1_Mad_libs_Python_Project.ipynb\" target=\"_parent\"><img src=\"https://colab.research.google.com/assets/colab-badge.svg\" alt=\"Open In Colab\"/></a>"
      ]
    },
    {
      "cell_type": "code",
      "execution_count": null,
      "metadata": {
        "colab": {
          "base_uri": "https://localhost:8080/"
        },
        "id": "r8v2Gt_hbQuP",
        "outputId": "9baf637a-799e-4207-e461-d900a23e4cc6"
      },
      "outputs": [
        {
          "output_type": "stream",
          "name": "stdout",
          "text": [
            "Please provide the following:\n",
            "Enter your name: Ghulam Muhammad\n",
            "Color: Blue\n",
            "Animal: Markhor\n",
            "Food: Mutton Karhai\n",
            "Location:Hunza\n",
            "Vehicle:Heavy Bike\n",
            "Celebrity:Maulana Tariq Jameel\n",
            "Object:Diamond\n",
            "\n",
            "Here's My Mad Libs story:\n",
            "One day, Ghulam Muhammad went on a Northern Area Adventure to Hunza. \n",
            "They packed a bag with Mutton Karhai and While exploring the breathtaking Blue landscapes. \n",
            "they suddenly spotted a majestic Markhor in the distance. \n",
            "They decided to ride it like a Heavy Bike and ended up at Maulana Tariq Jameel's house. \n",
            "There, they found a mysterious Diamond that changed their life forever!\n",
            "Welcome to Mad Libs!\n"
          ]
        }
      ],
      "source": [
        "def mad_libs():\n",
        "\n",
        "  print(\"Welcome to Mad Libs!\")\n",
        "print(\"Please provide the following:\")\n",
        "\n",
        "name = input(\"Enter your name: \")\n",
        "color = input(\"Color: \")\n",
        "animal = input(\"Animal: \")\n",
        "food = input(\"Food: \")\n",
        "location = input(\"Location:\")\n",
        "vehicle = input(\"Vehicle:\")\n",
        "celebrity=input(\"Celebrity:\")\n",
        "object=input(\"Object:\")\n",
        "\n",
        "\n",
        "print(\"\\nHere's My Mad Libs story:\")\n",
        "print(f\"One day, {name} went on a Northern Area Adventure to {location}. \")\n",
        "print(f\"They packed a bag with {food} and While exploring the breathtaking {color} landscapes. \")\n",
        "print(f\"they suddenly spotted a majestic {animal} in the distance. \")\n",
        "print(f\"They decided to ride it like a {vehicle} and ended up at {celebrity}'s house. \" )\n",
        "print(f\"There, they found a mysterious {object} that changed their life forever!\")\n",
        "\n",
        "if __name__ == \"__main__\":\n",
        "  mad_libs()"
      ]
    }
  ]
}