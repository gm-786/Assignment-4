{
  "nbformat": 4,
  "nbformat_minor": 0,
  "metadata": {
    "colab": {
      "provenance": [],
      "authorship_tag": "ABX9TyNRNMdHpgPlTxQwkM5cUle9",
      "include_colab_link": true
    },
    "kernelspec": {
      "name": "python3",
      "display_name": "Python 3"
    },
    "language_info": {
      "name": "python"
    }
  },
  "cells": [
    {
      "cell_type": "markdown",
      "metadata": {
        "id": "view-in-github",
        "colab_type": "text"
      },
      "source": [
        "<a href=\"https://colab.research.google.com/github/gm-786/Assignment-4/blob/main/00_intro_python.ipynb\" target=\"_parent\"><img src=\"https://colab.research.google.com/assets/colab-badge.svg\" alt=\"Open In Colab\"/></a>"
      ]
    },
    {
      "cell_type": "code",
      "execution_count": null,
      "metadata": {
        "colab": {
          "base_uri": "https://localhost:8080/"
        },
        "id": "lGDKfHWoDG9F",
        "outputId": "32a8fc14-d143-4fe9-9091-f9a143f7e1ab"
      },
      "outputs": [
        {
          "output_type": "stream",
          "name": "stdout",
          "text": [
            "01_add_two_numbers\n",
            "Enter the first number: 5\n",
            "Enter the second number: 10\n",
            "The total sum of the two numbers is: 15\n"
          ]
        }
      ],
      "source": [
        "print(\"01_add_two_numbers\")\n",
        "\n",
        "def main():\n",
        "    num1 = int(input(\"Enter the first number: \"))\n",
        "    num2 = int(input(\"Enter the second number: \"))\n",
        "\n",
        "    total_sum = num1 + num2\n",
        "\n",
        "    print(f\"The total sum of the two numbers is: {total_sum}\")\n",
        "\n",
        "\n",
        "if __name__ == '__main__':\n",
        "    main()\n"
      ]
    },
    {
      "cell_type": "code",
      "source": [
        "print(\"02_agreement_bot\")\n",
        "\n",
        "def main():\n",
        "\n",
        "  animal = input(\"\\033[1;3m What's your favorite animal ___? \")\n",
        "\n",
        "  print(f\"My favorite animal is also {animal}!\")\n",
        "\n",
        "if __name__ == '__main__':\n",
        "    main()"
      ],
      "metadata": {
        "colab": {
          "base_uri": "https://localhost:8080/"
        },
        "id": "Y1IkvyyeLXjS",
        "outputId": "c6035194-1a9b-4a10-d42b-b1d81a34939d"
      },
      "execution_count": null,
      "outputs": [
        {
          "output_type": "stream",
          "name": "stdout",
          "text": [
            "02_agreement_bot\n",
            "\u001b[1;3m What's your favorite animal ___? Markhor\n",
            "My favorite animal is also Markhor!\n"
          ]
        }
      ]
    },
    {
      "cell_type": "code",
      "source": [
        "print(\"03_fahrenheit_to_celsius\")\n",
        "\n",
        "\n",
        "def main():\n",
        "    fahrenheit = float(input(\"\\033[1;3mEnter the temperature in Fahrenheit: \"))\n",
        "\n",
        "    celsius = (fahrenheit - 32) * 5.0/9.0\n",
        "\n",
        "    print(f\"temperature : {fahrenheit}F = {celsius}C\" )\n",
        "\n",
        "if __name__ == '__main__':\n",
        "    main()\n"
      ],
      "metadata": {
        "colab": {
          "base_uri": "https://localhost:8080/"
        },
        "id": "BV0BlF3qOnZh",
        "outputId": "b7089daa-4d25-4af3-f4a3-27aa04c827c5"
      },
      "execution_count": null,
      "outputs": [
        {
          "output_type": "stream",
          "name": "stdout",
          "text": [
            "03_fahrenheit_to_celsius\n",
            "\u001b[1;3mEnter the temperature in Fahrenheit: 52\n",
            "temperature : 52.0F = 11.11111111111111C\n"
          ]
        }
      ]
    },
    {
      "cell_type": "code",
      "source": [
        "print(\"04_how_old_are_they\")\n",
        "\n",
        "def main():\n",
        "\n",
        "  Anton = 21\n",
        "  Beth = Anton + 6\n",
        "  Chen = Anton + 20\n",
        "  Drew = Anton + Chen\n",
        "  Ethan = Chen\n",
        "\n",
        "  print(f\"Anton is {Anton} years old\")\n",
        "  print(f\"Beth is {Beth} years old\")\n",
        "  print(f\"Chen is {Chen} years old\")\n",
        "  print(f\"Drew is {Drew} years old\")\n",
        "  print(f\"Ethan is {Ethan} years old\")\n",
        "\n",
        "if __name__ == '__main__':\n",
        "    main()"
      ],
      "metadata": {
        "colab": {
          "base_uri": "https://localhost:8080/"
        },
        "id": "f-LNJ_nRTR1m",
        "outputId": "d6683cab-40e1-427a-9c5c-a8a5b637180b"
      },
      "execution_count": null,
      "outputs": [
        {
          "output_type": "stream",
          "name": "stdout",
          "text": [
            "04_how_old_are_they\n",
            "Anton is 21 years old\n",
            "Beth is 27 years old\n",
            "Chen is 41 years old\n",
            "Drew is 62 years old\n",
            "Ethan is 41 years old\n"
          ]
        }
      ]
    },
    {
      "cell_type": "code",
      "source": [
        "print(\"05_triangle_perimeter\")\n",
        "\n",
        "def main():\n",
        "\n",
        "  side1 = float(input(\"Enter the length of the first side: \"))\n",
        "  side2 = float(input(\"Enter the length of the second side: \"))\n",
        "  side3 = float(input(\"Enter the length of the third side: \"))\n",
        "\n",
        "  perimter = side1 + side2 + side3\n",
        "\n",
        "  print(f\"The perimeter of the triangle is: {perimter}\")\n",
        "\n",
        "if __name__ == '__main__':\n",
        "    main()"
      ],
      "metadata": {
        "colab": {
          "base_uri": "https://localhost:8080/"
        },
        "id": "HTpEcrhhXS3F",
        "outputId": "6f215a75-0a87-49d9-be50-9dabfe38ce4e"
      },
      "execution_count": null,
      "outputs": [
        {
          "output_type": "stream",
          "name": "stdout",
          "text": [
            "05_triangle_perimeter\n",
            "Enter the length of the first side: 3\n",
            "Enter the length of the second side: 4\n",
            "Enter the length of the third side: 5.5\n",
            "The perimeter of the triangle is: 12.5\n"
          ]
        }
      ]
    },
    {
      "cell_type": "code",
      "source": [
        "print(\"06_square_number.\")\n",
        "\n",
        "def main():\n",
        "\n",
        "  number = float(input(\"\\033[1;3mType a number to see it's square: \"))\n",
        "\n",
        "  square = number * number\n",
        "\n",
        "  print(f\"The square of {number} is {square}\")\n",
        "\n",
        "if __name__ == \"__main__\":\n",
        "  main()"
      ],
      "metadata": {
        "colab": {
          "base_uri": "https://localhost:8080/"
        },
        "id": "ggKcm6ZBYCtF",
        "outputId": "ce4d3332-e69c-476e-8826-790aa3749438"
      },
      "execution_count": null,
      "outputs": [
        {
          "output_type": "stream",
          "name": "stdout",
          "text": [
            "06_square_number.\n",
            "\u001b[1;3mType a number to see it's square: 6\n",
            "The square of 6.0 is 36.0\n"
          ]
        }
      ]
    }
  ]
}