{
  "nbformat": 4,
  "nbformat_minor": 0,
  "metadata": {
    "colab": {
      "provenance": [],
      "authorship_tag": "ABX9TyPx8v46K79mg5Bq1a3C3K69",
      "include_colab_link": true
    },
    "kernelspec": {
      "name": "python3",
      "display_name": "Python 3"
    },
    "language_info": {
      "name": "python"
    }
  },
  "cells": [
    {
      "cell_type": "markdown",
      "metadata": {
        "id": "view-in-github",
        "colab_type": "text"
      },
      "source": [
        "<a href=\"https://colab.research.google.com/github/gm-786/Assignment-4/blob/main/Project_6_Countdown_Timer_Python_Project.ipynb\" target=\"_parent\"><img src=\"https://colab.research.google.com/assets/colab-badge.svg\" alt=\"Open In Colab\"/></a>"
      ]
    },
    {
      "cell_type": "code",
      "execution_count": null,
      "metadata": {
        "colab": {
          "base_uri": "https://localhost:8080/"
        },
        "id": "ElAVMXjhzAhK",
        "outputId": "10bd64d7-6686-4d9f-aaf7-1040fe6ab614"
      },
      "outputs": [
        {
          "output_type": "stream",
          "name": "stdout",
          "text": [
            "Time's up!\n"
          ]
        }
      ],
      "source": [
        "import time\n",
        "import os\n",
        "import sys\n",
        "\n",
        "def clear_line():\n",
        "    sys.stdout.write('\\r' + ' ' * 20 + '\\r')\n",
        "    sys.stdout.flush()\n",
        "\n",
        "def countdown(seconds):\n",
        "    while seconds >= 0:\n",
        "        mins = seconds // 60\n",
        "        secs = seconds % 60\n",
        "        timer_display = f\"{mins:02d}:{secs:02d}\"\n",
        "        clear_line()\n",
        "        print(timer_display, end=\"\")\n",
        "        time.sleep(1)\n",
        "        seconds -= 1\n",
        "\n",
        "    clear_line()\n",
        "    print(\"Time's up!\")\n",
        "\n",
        "if __name__ == \"__main__\":\n",
        "    countdown(10)\n"
      ]
    }
  ]
}