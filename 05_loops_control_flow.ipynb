{
  "nbformat": 4,
  "nbformat_minor": 0,
  "metadata": {
    "colab": {
      "provenance": [],
      "authorship_tag": "ABX9TyOEKhhTdwYJ3caorSQnEUQR",
      "include_colab_link": true
    },
    "kernelspec": {
      "name": "python3",
      "display_name": "Python 3"
    },
    "language_info": {
      "name": "python"
    }
  },
  "cells": [
    {
      "cell_type": "markdown",
      "metadata": {
        "id": "view-in-github",
        "colab_type": "text"
      },
      "source": [
        "<a href=\"https://colab.research.google.com/github/gm-786/Assignment-4/blob/main/05_loops_control_flow.ipynb\" target=\"_parent\"><img src=\"https://colab.research.google.com/assets/colab-badge.svg\" alt=\"Open In Colab\"/></a>"
      ]
    },
    {
      "cell_type": "code",
      "source": [
        "import random\n",
        "\n",
        "print(\"00_guess_my_number\")\n",
        "\n",
        "def main():\n",
        "  secret_number = random.randint(1, 100)\n",
        "  print(\"I'm thinking of a number between 1 and 100.\")\n",
        "  print(\"Type 'exit' to quit at any time.\")\n",
        "\n",
        "  while True:\n",
        "    guess_input = input(\"Your guess: \")\n",
        "    if guess_input.lower() == \"exit\":\n",
        "      print(\"Game exited. The number was:\", secret_number)\n",
        "      break\n",
        "\n",
        "    if not guess_input.isdigit():\n",
        "      print(\"Please enter a valid number.\")\n",
        "      continue\n",
        "\n",
        "    guess = int(guess_input)\n",
        "\n",
        "    if guess > secret_number:\n",
        "      print(\"Your guess is too high.\")\n",
        "    elif guess < secret_number:\n",
        "      print(\"Your guess is too low.\")\n",
        "    else:\n",
        "      print(\"Congrats! You guessed it! The number was\", secret_number)\n",
        "      break\n",
        "\n",
        "if __name__ == \"__main__\":\n",
        "  main()\n"
      ],
      "metadata": {
        "colab": {
          "base_uri": "https://localhost:8080/"
        },
        "id": "BlwnPinckEiF",
        "outputId": "5b3b3024-324f-49fb-d3dc-c61bf6a1f1f8"
      },
      "execution_count": null,
      "outputs": [
        {
          "output_type": "stream",
          "name": "stdout",
          "text": [
            "00_guess_my_number\n",
            "I'm thinking of a number between 1 and 100.\n",
            "Type 'exit' to quit at any time.\n",
            "Your guess: 15\n",
            "Your guess is too low.\n",
            "Your guess: 30\n",
            "Your guess is too low.\n",
            "Your guess: 55\n",
            "Your guess is too high.\n",
            "Your guess: 32\n",
            "Your guess is too low.\n",
            "Your guess: 1\n",
            "Your guess is too low.\n",
            "Your guess: 2\n",
            "Your guess is too low.\n",
            "Your guess: 4\n",
            "Your guess is too low.\n",
            "Your guess: 6\n",
            "Your guess is too low.\n",
            "Your guess: 42\n",
            "Your guess is too low.\n",
            "Your guess: 79\n",
            "Your guess is too high.\n",
            "Your guess: 56\n",
            "Your guess is too high.\n",
            "Your guess: 8\n",
            "Your guess is too low.\n",
            "Your guess: 9\n",
            "Your guess is too low.\n",
            "Your guess: 20\n",
            "Your guess is too low.\n",
            "Your guess: 10\n",
            "Your guess is too low.\n",
            "Your guess: 11\n",
            "Your guess is too low.\n",
            "Your guess: 23\n",
            "Your guess is too low.\n",
            "Your guess: 12\n",
            "Your guess is too low.\n",
            "Your guess: 13\n",
            "Your guess is too low.\n",
            "Your guess: 14\n",
            "Your guess is too low.\n",
            "Your guess: 15\n",
            "Your guess is too low.\n",
            "Your guess: 47\n",
            "Your guess is too high.\n",
            "Your guess: 48\n",
            "Your guess is too high.\n",
            "Your guess: 21\n",
            "Your guess is too low.\n",
            "Your guess: 22\n",
            "Your guess is too low.\n",
            "Your guess: 34\n",
            "Your guess is too low.\n",
            "Your guess: 13\n",
            "Your guess is too low.\n",
            "Your guess: 24\n",
            "Your guess is too low.\n",
            "Your guess: 25\n",
            "Your guess is too low.\n",
            "Your guess: 26\n",
            "Your guess is too low.\n",
            "Your guess: 27\n",
            "Your guess is too low.\n",
            "Your guess: 28\n",
            "Your guess is too low.\n",
            "Your guess: 29\n",
            "Your guess is too low.\n",
            "Your guess: 31\n",
            "Your guess is too low.\n",
            "Your guess: 33\n",
            "Your guess is too low.\n",
            "Your guess: 35\n",
            "Your guess is too low.\n",
            "Your guess: 36\n",
            "Your guess is too low.\n",
            "Your guess: 37\n",
            "Your guess is too low.\n",
            "Your guess: 38\n",
            "Your guess is too low.\n",
            "Your guess: 45\n",
            "Congrats! You guessed it! The number was 45\n"
          ]
        }
      ]
    },
    {
      "cell_type": "code",
      "source": [
        "print(\"01_fibonacci.\")\n",
        "\n",
        "max_value = 10000\n",
        "def main():\n",
        "  a,b=0,1\n",
        "  print(a,b, end=\" \")\n",
        "\n",
        "  while True:\n",
        "    c= a+b\n",
        "    if c >= max_value:\n",
        "      break\n",
        "    print(c, end=\" \")\n",
        "    a,b=b,c\n",
        "\n",
        "if __name__ == \"__main__\":\n",
        "  main()"
      ],
      "metadata": {
        "colab": {
          "base_uri": "https://localhost:8080/"
        },
        "id": "JaifI9sWki-9",
        "outputId": "d1621e93-1b42-4774-9ffc-c99141816ec0"
      },
      "execution_count": null,
      "outputs": [
        {
          "output_type": "stream",
          "name": "stdout",
          "text": [
            "01_fibonacci.\n",
            "0 1 1 2 3 5 8 13 21 34 55 89 144 233 377 610 987 1597 2584 4181 6765 "
          ]
        }
      ]
    },
    {
      "cell_type": "code",
      "source": [
        "print(\"02_print_events\")\n",
        "\n",
        "def main():\n",
        "  for i in range(40):\n",
        "    print(i*2)\n",
        "\n",
        "if __name__ == \"__main__\":\n",
        "  main()"
      ],
      "metadata": {
        "colab": {
          "base_uri": "https://localhost:8080/"
        },
        "id": "VjrCDSZzk1eV",
        "outputId": "bab1f470-d905-4b09-e541-5b51a3bf4de1"
      },
      "execution_count": null,
      "outputs": [
        {
          "output_type": "stream",
          "name": "stdout",
          "text": [
            "02_print_events\n",
            "0\n",
            "2\n",
            "4\n",
            "6\n",
            "8\n",
            "10\n",
            "12\n",
            "14\n",
            "16\n",
            "18\n",
            "20\n",
            "22\n",
            "24\n",
            "26\n",
            "28\n",
            "30\n",
            "32\n",
            "34\n",
            "36\n",
            "38\n",
            "40\n",
            "42\n",
            "44\n",
            "46\n",
            "48\n",
            "50\n",
            "52\n",
            "54\n",
            "56\n",
            "58\n",
            "60\n",
            "62\n",
            "64\n",
            "66\n",
            "68\n",
            "70\n",
            "72\n",
            "74\n",
            "76\n",
            "78\n"
          ]
        }
      ]
    },
    {
      "cell_type": "code",
      "source": [
        "print(\"03_wholesome_machine\")\n",
        "\n",
        "correct_affermation =\"I am capable of doing anything. I put my mind to.\"\n",
        "\n",
        "def main():\n",
        "  print(\"Welcome to the wholesome machine.\")\n",
        "  while True:\n",
        "    user_input = input(\"Please type the following affermation:\" + correct_affermation)\n",
        "    if user_input == correct_affermation:\n",
        "      print(\"That's right.\")\n",
        "      break\n",
        "    else:\n",
        "      print(\"That's not right. Try again.\")\n",
        "\n",
        "if __name__ == \"__main__\":\n",
        "  main()"
      ],
      "metadata": {
        "colab": {
          "base_uri": "https://localhost:8080/"
        },
        "id": "dvGeYE_mlPn8",
        "outputId": "2f61e027-0468-4269-fd3e-724235a30018"
      },
      "execution_count": null,
      "outputs": [
        {
          "output_type": "stream",
          "name": "stdout",
          "text": [
            "03_wholesome_machine\n",
            "Welcome to the wholesome machine.\n",
            "Please type the following affermation:I am capable of doing anything. I put my mind to.I am capable of doing anything I put my mind to\n",
            "That's not right. Try again.\n",
            "Please type the following affermation:I am capable of doing anything. I put my mind to.I am capable of doing anything I put my mind to.\n",
            "That's not right. Try again.\n",
            "Please type the following affermation:I am capable of doing anything. I put my mind to.I am capable of doing anything. I put my mind to.\n",
            "That's right.\n"
          ]
        }
      ]
    },
    {
      "cell_type": "code",
      "source": [
        "print(\"04_liftoff\")\n",
        "\n",
        "def main():\n",
        "  for i in range(10,0,-1):\n",
        "    print(i,end = \" \")\n",
        "  print(\"Liftoff!\")\n",
        "\n",
        "if __name__ == \"__main__\":\n",
        "  main()"
      ],
      "metadata": {
        "colab": {
          "base_uri": "https://localhost:8080/"
        },
        "id": "-PC9OWxkn1ze",
        "outputId": "7a007320-7ca6-44ae-be36-b00c38cd1703"
      },
      "execution_count": null,
      "outputs": [
        {
          "output_type": "stream",
          "name": "stdout",
          "text": [
            "04_liftoff\n",
            "10 9 8 7 6 5 4 3 2 1 Liftoff!\n"
          ]
        }
      ]
    },
    {
      "cell_type": "code",
      "source": [
        "print(\"05_double_it\")\n",
        "\n",
        "def main():\n",
        "  user_value = int(input(\"Please enter a number:\"))\n",
        "  while user_value < 100:\n",
        "    user_value= user_value *2\n",
        "    print(user_value)\n",
        "\n",
        "if __name__ == \"__main__\":\n",
        "  main()"
      ],
      "metadata": {
        "colab": {
          "base_uri": "https://localhost:8080/"
        },
        "id": "vPbThMufoFmN",
        "outputId": "dd0dd9c4-ad38-42d7-89a0-deac6e763f54"
      },
      "execution_count": null,
      "outputs": [
        {
          "output_type": "stream",
          "name": "stdout",
          "text": [
            "05_double_it\n",
            "Please enter a number:8\n",
            "16\n",
            "32\n",
            "64\n",
            "128\n"
          ]
        }
      ]
    }
  ]
}