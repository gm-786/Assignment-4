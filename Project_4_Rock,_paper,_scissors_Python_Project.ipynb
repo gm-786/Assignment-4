{
  "nbformat": 4,
  "nbformat_minor": 0,
  "metadata": {
    "colab": {
      "provenance": [],
      "authorship_tag": "ABX9TyPbHoMjgLd4Rn6593O6Wu5k",
      "include_colab_link": true
    },
    "kernelspec": {
      "name": "python3",
      "display_name": "Python 3"
    },
    "language_info": {
      "name": "python"
    }
  },
  "cells": [
    {
      "cell_type": "markdown",
      "metadata": {
        "id": "view-in-github",
        "colab_type": "text"
      },
      "source": [
        "<a href=\"https://colab.research.google.com/github/gm-786/Assignment-4/blob/main/Project_4_Rock%2C_paper%2C_scissors_Python_Project.ipynb\" target=\"_parent\"><img src=\"https://colab.research.google.com/assets/colab-badge.svg\" alt=\"Open In Colab\"/></a>"
      ]
    },
    {
      "cell_type": "code",
      "execution_count": null,
      "metadata": {
        "colab": {
          "base_uri": "https://localhost:8080/"
        },
        "id": "0f8yMyUTpVwM",
        "outputId": "0988020e-e7e6-4f21-cd3d-df9e9cbe7407"
      },
      "outputs": [
        {
          "output_type": "stream",
          "name": "stdout",
          "text": [
            "Welcome to the Rock, Paper, Scissors game!\n",
            "Let's Play!\n",
            "Enter Rock, Paper, Scissors or Q to quit: rock\n",
            "Computer chose: scissors\n",
            "You win!\n",
            "Current score - You: 1, Computer: 0\n",
            "\n",
            "Enter Rock, Paper, Scissors or Q to quit: paper\n",
            "Computer chose: rock\n",
            "You win!\n",
            "Current score - You: 2, Computer: 0\n",
            "\n",
            "Enter Rock, Paper, Scissors or Q to quit: scissors\n",
            "Computer chose: rock\n",
            "Computer wins!\n",
            "Current score - You: 2, Computer: 1\n",
            "\n",
            "Enter Rock, Paper, Scissors or Q to quit: q\n",
            "Final score - You: 2, Computer: 1\n",
            "Thanks for playing!\n"
          ]
        }
      ],
      "source": [
        "import random\n",
        "\n",
        "print(\"Welcome to the Rock, Paper, Scissors game!\")\n",
        "\n",
        "choices = [\"rock\", \"paper\", \"scissors\"]\n",
        "user_score = computer_score = 0\n",
        "\n",
        "print(\"Let's Play!\")\n",
        "\n",
        "while True:\n",
        "    user_input = input(\"Enter Rock, Paper, Scissors or Q to quit: \").lower()\n",
        "\n",
        "    if user_input == 'q':\n",
        "        print(f\"Final score - You: {user_score}, Computer: {computer_score}\")\n",
        "        print(\"Thanks for playing!\")\n",
        "        break\n",
        "\n",
        "    if user_input not in choices:\n",
        "        print(\"Invalid input. Please try again.\")\n",
        "        continue\n",
        "\n",
        "    computer_choice = random.choice(choices)\n",
        "    print(f\"Computer chose: {computer_choice}\")\n",
        "\n",
        "    if user_input == computer_choice:\n",
        "        print(\"It's a tie!\")\n",
        "\n",
        "    elif (user_input == \"rock\" and computer_choice == \"scissors\") or \\\n",
        "         (user_input == \"paper\" and computer_choice == \"rock\") or \\\n",
        "         (user_input == \"scissors\" and computer_choice == \"paper\"):\n",
        "        print(\"You win!\")\n",
        "        user_score += 1\n",
        "\n",
        "    else:\n",
        "        print(\"Computer wins!\")\n",
        "        computer_score += 1\n",
        "\n",
        "    print(f\"Current score - You: {user_score}, Computer: {computer_score}\")\n",
        "    print()\n",
        "\n",
        "\n"
      ]
    }
  ]
}