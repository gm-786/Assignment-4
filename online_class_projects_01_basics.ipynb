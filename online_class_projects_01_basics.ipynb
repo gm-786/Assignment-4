{
  "nbformat": 4,
  "nbformat_minor": 0,
  "metadata": {
    "colab": {
      "provenance": [],
      "authorship_tag": "ABX9TyN3OUlFcr34/QJg1aU++aIg",
      "include_colab_link": true
    },
    "kernelspec": {
      "name": "python3",
      "display_name": "Python 3"
    },
    "language_info": {
      "name": "python"
    }
  },
  "cells": [
    {
      "cell_type": "markdown",
      "metadata": {
        "id": "view-in-github",
        "colab_type": "text"
      },
      "source": [
        "<a href=\"https://colab.research.google.com/github/gm-786/Assignment-4/blob/main/online_class_projects_01_basics.ipynb\" target=\"_parent\"><img src=\"https://colab.research.google.com/assets/colab-badge.svg\" alt=\"Open In Colab\"/></a>"
      ]
    },
    {
      "cell_type": "code",
      "execution_count": null,
      "metadata": {
        "colab": {
          "base_uri": "https://localhost:8080/"
        },
        "id": "lEnUCzSCsIRm",
        "outputId": "d5bedcc2-27e9-4a11-e0d6-251f8960fbdf"
      },
      "outputs": [
        {
          "output_type": "stream",
          "name": "stdout",
          "text": [
            "00_joke_bot\n",
            "What do you want? joke\n",
            "Here is a joke for you! Why do programmers prefer dark mode? \n",
            " Because the light attracts bugs! 😄\n"
          ]
        }
      ],
      "source": [
        "print(\"00_joke_bot\")\n",
        "\n",
        "\n",
        "PROMPT: str = \"What do you want? \"\n",
        "JOKE: str = \"Here is a joke for you! Why do programmers prefer dark mode? \\n Because the light attracts bugs! 😄\"\n",
        "SORRY: str = \"Sorry I only tell jokes.\"\n",
        "\n",
        "def main():\n",
        "\n",
        "    user_input = input(PROMPT)\n",
        "    user_input = user_input.strip().lower()\n",
        "\n",
        "    if \"joke\" in user_input:\n",
        "        print(JOKE)\n",
        "    else:\n",
        "        print(SORRY)\n",
        "\n",
        "if __name__ == \"__main__\":\n",
        "    main()"
      ]
    },
    {
      "cell_type": "code",
      "source": [
        "print(\"01_double_it\")\n",
        "\n",
        "def main():\n",
        "  user_value = int(input(\"Please enter a number:\"))\n",
        "  while user_value < 100:\n",
        "    user_value= user_value *2\n",
        "    print(user_value)\n",
        "\n",
        "if __name__ == \"__main__\":\n",
        "  main()"
      ],
      "metadata": {
        "colab": {
          "base_uri": "https://localhost:8080/"
        },
        "id": "TwpKXrww4U0p",
        "outputId": "9f51f13b-fb6c-4cd2-cb74-91017c83b138"
      },
      "execution_count": null,
      "outputs": [
        {
          "output_type": "stream",
          "name": "stdout",
          "text": [
            "05_double_it\n",
            "Please enter a number:7\n",
            "14\n",
            "28\n",
            "56\n",
            "112\n"
          ]
        }
      ]
    },
    {
      "cell_type": "code",
      "source": [
        "print(\"02_liftoff\")\n",
        "\n",
        "def main():\n",
        "  for i in range(10,0,-1):\n",
        "    print(i,end = \" \")\n",
        "  print(\"Liftoff!\")\n",
        "\n",
        "if __name__ == \"__main__\":\n",
        "  main()"
      ],
      "metadata": {
        "colab": {
          "base_uri": "https://localhost:8080/"
        },
        "id": "mDh87__p5v6L",
        "outputId": "d035a565-c7db-4c68-97b7-b80705c49d08"
      },
      "execution_count": null,
      "outputs": [
        {
          "output_type": "stream",
          "name": "stdout",
          "text": [
            "02_liftoff\n",
            "10 9 8 7 6 5 4 3 2 1 Liftoff!\n"
          ]
        }
      ]
    },
    {
      "cell_type": "code",
      "source": [
        "import random\n",
        "\n",
        "print(\"03_guess_my_number\")\n",
        "\n",
        "def main():\n",
        "  secret_number = random.randint(1, 100)\n",
        "  print(\"I'm thinking of a number between 1 and 100.\")\n",
        "  print(\"Type 'exit' to quit at any time.\")\n",
        "\n",
        "  while True:\n",
        "    guess_input = input(\"Your guess: \")\n",
        "    if guess_input.lower() == \"exit\":\n",
        "      print(\"Game exited. The number was:\", secret_number)\n",
        "      break\n",
        "\n",
        "    if not guess_input.isdigit():\n",
        "      print(\"Please enter a valid number.\")\n",
        "      continue\n",
        "\n",
        "    guess = int(guess_input)\n",
        "\n",
        "    if guess > secret_number:\n",
        "      print(\"Your guess is too high.\")\n",
        "    elif guess < secret_number:\n",
        "      print(\"Your guess is too low.\")\n",
        "    else:\n",
        "      print(\"Congrats! You guessed it! The number was\", secret_number)\n",
        "      break\n",
        "\n",
        "if __name__ == \"__main__\":\n",
        "  main()\n"
      ],
      "metadata": {
        "colab": {
          "base_uri": "https://localhost:8080/"
        },
        "id": "kGYwMN0b57d_",
        "outputId": "d14e1cfb-f788-441e-9d62-ab653b23f684"
      },
      "execution_count": null,
      "outputs": [
        {
          "output_type": "stream",
          "name": "stdout",
          "text": [
            "03_guess_my_number\n",
            "I'm thinking of a number between 1 and 100.\n",
            "Type 'exit' to quit at any time.\n",
            "Your guess: 2\n",
            "Your guess is too low.\n",
            "Your guess: 4\n",
            "Your guess is too low.\n",
            "Your guess: 6\n",
            "Your guess is too low.\n",
            "Your guess: 27\n",
            "Your guess is too low.\n",
            "Your guess: 50\n",
            "Your guess is too low.\n",
            "Your guess: 56\n",
            "Congrats! You guessed it! The number was 56\n"
          ]
        }
      ]
    },
    {
      "cell_type": "code",
      "source": [
        "import random\n",
        "\n",
        "print(\"04_random_numbers\")\n",
        "\n",
        "\n",
        "N_NUMBERS : int = 10\n",
        "MIN_VALUE : int = 1\n",
        "MAX_VALUE : int = 100\n",
        "\n",
        "def main():\n",
        "\n",
        " for _ in range(N_NUMBERS):\n",
        "    value = random.randint(MIN_VALUE, MAX_VALUE)\n",
        "    print(value, end=\" \")\n",
        "\n",
        "if __name__ == \"__main__\":\n",
        "    main()"
      ],
      "metadata": {
        "colab": {
          "base_uri": "https://localhost:8080/"
        },
        "id": "-Gh6sTcR706h",
        "outputId": "4b9b103d-72a5-46be-ed60-5fc7304bc81e"
      },
      "execution_count": null,
      "outputs": [
        {
          "output_type": "stream",
          "name": "stdout",
          "text": [
            "04_random_numbers\n",
            "1 95 40 39 18 93 57 97 69 36 "
          ]
        }
      ]
    }
  ]
}