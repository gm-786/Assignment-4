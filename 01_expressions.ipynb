{
  "nbformat": 4,
  "nbformat_minor": 0,
  "metadata": {
    "colab": {
      "provenance": [],
      "authorship_tag": "ABX9TyPiWO8+VXklJwaqN+jBsrCe",
      "include_colab_link": true
    },
    "kernelspec": {
      "name": "python3",
      "display_name": "Python 3"
    },
    "language_info": {
      "name": "python"
    }
  },
  "cells": [
    {
      "cell_type": "markdown",
      "metadata": {
        "id": "view-in-github",
        "colab_type": "text"
      },
      "source": [
        "<a href=\"https://colab.research.google.com/github/gm-786/Assignment-4/blob/main/01_expressions.ipynb\" target=\"_parent\"><img src=\"https://colab.research.google.com/assets/colab-badge.svg\" alt=\"Open In Colab\"/></a>"
      ]
    },
    {
      "cell_type": "code",
      "execution_count": null,
      "metadata": {
        "colab": {
          "base_uri": "https://localhost:8080/"
        },
        "id": "KYH6CJKHjlvL",
        "outputId": "947d8775-9156-4088-9ef6-8d09928e5a07"
      },
      "outputs": [
        {
          "output_type": "stream",
          "name": "stdout",
          "text": [
            "01_dicesimulator\n",
            "die1 in main() start as (die1)\n",
            "Die 1: 4, Die 2: 1, Total: 5\n",
            "die1 in main() is still (die1)\n",
            "Die 1: 2, Die 2: 4, Total: 6\n",
            "die1 in main() is still (die1)\n",
            "Die 1: 2, Die 2: 1, Total: 3\n",
            "die1 in main() is still (die1)\n"
          ]
        }
      ],
      "source": [
        "import random\n",
        "\n",
        "print(\"01_dicesimulator\")\n",
        "\n",
        "NUM_SIDES = 6\n",
        "\n",
        "def roll_dice():\n",
        "    die1 = random.randint(1, NUM_SIDES)\n",
        "    die2 = random.randint(1, NUM_SIDES)\n",
        "\n",
        "    total = die1 + die2\n",
        "    print(f\"Die 1: {die1}, Die 2: {die2}, Total: {total}\")\n",
        "\n",
        "def main():\n",
        "\n",
        "  die1 = 10\n",
        "\n",
        "  print(f\"die1 in main() start as (die1)\")\n",
        "\n",
        "  for _ in range(3):\n",
        "    roll_dice()\n",
        "\n",
        "    print(f\"die1 in main() is still (die1)\")\n",
        "\n",
        "if __name__ == \"__main__\":\n",
        "  main()\n"
      ]
    },
    {
      "cell_type": "code",
      "source": [
        "print(\"02_e=mc2\")\n",
        "\n",
        "\n",
        "def energy():\n",
        "  c = (299792458)\n",
        "  m = float(input(\"\\033[1;3m Enter kilos of mass:\"))\n",
        "  print(\"e = m * c^2\")\n",
        "  print(\"Mass = \" + str (m) + \"kg\")\n",
        "  print(\"C = \" + str(c) + \" m/s\")\n",
        "  print(\"e =\" + str(m * c ** 2) + \" Joules\")\n",
        "\n",
        "\n",
        "if __name__ == \"__main__\":\n",
        "  energy()"
      ],
      "metadata": {
        "colab": {
          "base_uri": "https://localhost:8080/"
        },
        "id": "xYRjdT06yxLr",
        "outputId": "cb19a8e9-f313-4329-b2ad-8a43e4436511"
      },
      "execution_count": null,
      "outputs": [
        {
          "output_type": "stream",
          "name": "stdout",
          "text": [
            "02_e=mc2\n",
            "\u001b[1;3m Enter kilos of mass:2\n",
            "e = m * c^2\n",
            "Mass = 2.0kg\n",
            "C = 299792458 m/s\n",
            "e =1.7975103574736352e+17 Joules\n"
          ]
        }
      ]
    },
    {
      "cell_type": "code",
      "source": [
        "print(\"03_feet_to_inches\")\n",
        "\n",
        "Inches_in_foot = 12\n",
        "\n",
        "def foot():\n",
        "  feet = int(input(\"Enter number of feet: \"))\n",
        "  inches = feet * Inches_in_foot\n",
        "  print(\"That is\", inches, \"inches!\")\n",
        "\n",
        "if __name__ == \"__main__\":\n",
        "  foot()"
      ],
      "metadata": {
        "colab": {
          "base_uri": "https://localhost:8080/"
        },
        "id": "dD-GW4DDszuz",
        "outputId": "117cc23c-d24a-4246-bccd-1820d35568d5"
      },
      "execution_count": null,
      "outputs": [
        {
          "output_type": "stream",
          "name": "stdout",
          "text": [
            "03_feet_to_inches\n",
            "Enter number of feet: 10\n",
            "That is 120 inches!\n"
          ]
        }
      ]
    },
    {
      "cell_type": "code",
      "source": [
        "import math\n",
        "\n",
        "print(\"04_pythagorean_theorem\")\n",
        "\n",
        "def pythagorean():\n",
        "\n",
        "  ab = float(input(\"\\033[1;3m Enter the length of AB: \"))\n",
        "  ac = float(input(\"\\033[1;3m Enter the length of AC: \"))\n",
        "\n",
        "  bc = math.sqrt(ab**2 + ac**2)\n",
        "  print(\"The length of BC (the hypotenuse) is: \" + str(bc))\n",
        "\n",
        "if __name__ == \"__main__\":\n",
        "  pythagorean()\n"
      ],
      "metadata": {
        "colab": {
          "base_uri": "https://localhost:8080/"
        },
        "id": "kNQ0bL6kvYRE",
        "outputId": "4def2238-a922-4486-be53-a2b3a5828304"
      },
      "execution_count": null,
      "outputs": [
        {
          "output_type": "stream",
          "name": "stdout",
          "text": [
            "04_pythagorean_theorem\n",
            "\u001b[1;3m Enter the length of AB: 8\n",
            "\u001b[1;3m Enter the length of AC: 10\n",
            "The length of BC (the hypotenuse) is: 12.806248474865697\n"
          ]
        }
      ]
    },
    {
      "cell_type": "code",
      "source": [
        "print(\"05_remainder_division\")\n",
        "\n",
        "def reminder():\n",
        "  dividend = int(input(\"\\033[1;3m Enter the dividend:\"))\n",
        "  divisor  = int(input(\"\\033[1;3m Enter the divisor:\"))\n",
        "  quotient = dividend // divisor\n",
        "  remainder = dividend % divisor\n",
        "  print(f'The quotient is {quotient}')\n",
        "  print(f'The remainder is {remainder}')\n",
        "\n",
        "if __name__ == \"__main__\":\n",
        "  reminder()"
      ],
      "metadata": {
        "colab": {
          "base_uri": "https://localhost:8080/"
        },
        "id": "VxVzmRjFzdiN",
        "outputId": "4e64d5cc-f6f2-49c4-f0b8-1697306d8762"
      },
      "execution_count": null,
      "outputs": [
        {
          "output_type": "stream",
          "name": "stdout",
          "text": [
            "05_remainder_division\n",
            "\u001b[1;3m Enter the dividend:20\n",
            "\u001b[1;3m Enter the divisor:7\n",
            "The quotient is 2\n",
            "The remainder is 6\n"
          ]
        }
      ]
    },
    {
      "cell_type": "code",
      "source": [
        "import random\n",
        "print(\"06_rolldice\")\n",
        "\n",
        "def roll_dice():\n",
        "  dice1 = random.randint(1,6)\n",
        "  dice2 = random.randint(1,6)\n",
        "  total = int(dice1+ dice2)\n",
        "  print(\"First Dice:\"+ str (dice1) )\n",
        "  print(\"Second Dice:\"+ str(dice2))\n",
        "  print(f'Total of two dice:{total}')\n",
        "\n",
        "if __name__ == \"__main__\":\n",
        "  roll_dice()"
      ],
      "metadata": {
        "colab": {
          "base_uri": "https://localhost:8080/"
        },
        "id": "Ld6JHylp2UOl",
        "outputId": "9a9fbd54-3262-43e7-dab9-70408f85e335"
      },
      "execution_count": null,
      "outputs": [
        {
          "output_type": "stream",
          "name": "stdout",
          "text": [
            "06_rolldice\n",
            "First Dice:3\n",
            "Second Dice:1\n",
            "Total of two dice:4\n"
          ]
        }
      ]
    },
    {
      "cell_type": "code",
      "source": [
        "print(\"06_seconds_in_year\")\n",
        "\n",
        "DAYS_PER_YEAR: int = 365\n",
        "HOURS_PER_DAY: int = 24\n",
        "MIN_PER_HOUR: int = 60\n",
        "SEC_PER_MIN: int = 60\n",
        "\n",
        "def seconds():\n",
        "\n",
        "  print(\"There are \" + str(DAYS_PER_YEAR * HOURS_PER_DAY * MIN_PER_HOUR * SEC_PER_MIN) + \" seconds in a year!\")\n",
        "\n",
        "if __name__ == '__main__':\n",
        "    seconds()"
      ],
      "metadata": {
        "colab": {
          "base_uri": "https://localhost:8080/"
        },
        "id": "eCSSAkqm23sk",
        "outputId": "412fed14-2ff8-406c-b3cc-f41ff9b29cf5"
      },
      "execution_count": null,
      "outputs": [
        {
          "output_type": "stream",
          "name": "stdout",
          "text": [
            "06_seconds_in_year\n",
            "There are 31536000 seconds in a year!\n"
          ]
        }
      ]
    },
    {
      "cell_type": "code",
      "source": [
        "print(\"07_tiny_mad_lib\")\n",
        "\n",
        "SENTENCE_START: str = \"Panaversity is fun. I learned to program and used Python to make my \"\n",
        "def mad():\n",
        "    print(\"Welcome to Mad Libs Game!\")\n",
        "    print(\"-----------------------------------\")\n",
        "\n",
        "    adjective = input(\"\\033[1;3m Please type an adjective (e.g., happy, small, black) and press enter: \")\n",
        "    noun = input(\"\\033[1;3m Please type a noun (e.g., book, car, home) and press enter: \")\n",
        "    verb = input(\"\\033[1;3m Please type a verb (e.g., run, jump, fly) and press enter: \")\n",
        "\n",
        "    sentence = SENTENCE_START + adjective + \" \" + noun + \" \" + verb + \"!\"\n",
        "\n",
        "    print(\"\\nHere's your Mad Libs sentence:\")\n",
        "    print(sentence)\n",
        "\n",
        "if __name__ == '__main__':\n",
        "  mad()"
      ],
      "metadata": {
        "colab": {
          "base_uri": "https://localhost:8080/"
        },
        "id": "rX6RN8XP38j8",
        "outputId": "cdbc8c5a-708e-48b4-e2e0-e0b2b0cff2f3"
      },
      "execution_count": null,
      "outputs": [
        {
          "output_type": "stream",
          "name": "stdout",
          "text": [
            "07_tiny_mad_lib\n",
            "Welcome to Mad Libs Game!\n",
            "-----------------------------------\n",
            "\u001b[1;3m Please type an adjective (e.g., happy, small, black) and press enter: fun\n",
            "\u001b[1;3m Please type a noun (e.g., book, car, home) and press enter: love\n",
            "\u001b[1;3m Please type a verb (e.g., run, jump, fly) and press enter: fly\n",
            "\n",
            "Here's your Mad Libs sentence:\n",
            "Panaversity is fun. I learned to program and used Python to make my fun love fly!\n"
          ]
        }
      ]
    }
  ]
}