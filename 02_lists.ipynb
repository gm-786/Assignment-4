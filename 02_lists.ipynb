{
  "nbformat": 4,
  "nbformat_minor": 0,
  "metadata": {
    "colab": {
      "provenance": [],
      "authorship_tag": "ABX9TyP0QBTuKoFQkCM1NItMC7Td",
      "include_colab_link": true
    },
    "kernelspec": {
      "name": "python3",
      "display_name": "Python 3"
    },
    "language_info": {
      "name": "python"
    }
  },
  "cells": [
    {
      "cell_type": "markdown",
      "metadata": {
        "id": "view-in-github",
        "colab_type": "text"
      },
      "source": [
        "<a href=\"https://colab.research.google.com/github/gm-786/Assignment-4/blob/main/02_lists.ipynb\" target=\"_parent\"><img src=\"https://colab.research.google.com/assets/colab-badge.svg\" alt=\"Open In Colab\"/></a>"
      ]
    },
    {
      "cell_type": "code",
      "execution_count": null,
      "metadata": {
        "colab": {
          "base_uri": "https://localhost:8080/"
        },
        "id": "YID3yESi8BSh",
        "outputId": "ff6dd650-01c6-4557-8469-681367f390d7"
      },
      "outputs": [
        {
          "output_type": "stream",
          "name": "stdout",
          "text": [
            "01_add_many_numbers\n",
            "28\n"
          ]
        }
      ],
      "source": [
        "print(\"01_add_many_numbers\")\n",
        "\n",
        "def add_number(numbers: list[int]) -> int:\n",
        "    num = 0\n",
        "    for i in numbers:\n",
        "        num += i\n",
        "    return num\n",
        "\n",
        "def main():\n",
        "    numbers: list[int] = [1, 2, 3, 4, 5, 6, 7]\n",
        "    result = add_number(numbers)\n",
        "    print(result)\n",
        "\n",
        "if __name__ == \"__main__\":\n",
        "  main()"
      ]
    },
    {
      "cell_type": "code",
      "source": [
        "print(\"02_double_list\")\n",
        "\n",
        "def main():\n",
        "  numbers: list[int] = [1,2,3,4,5,6,7,8]\n",
        "  for i in range(len(numbers)):\n",
        "    index = numbers[i]\n",
        "    numbers[i] = index * 2\n",
        "  print(numbers)\n",
        "\n",
        "if __name__ == \"__main__\":\n",
        "  main()"
      ],
      "metadata": {
        "colab": {
          "base_uri": "https://localhost:8080/"
        },
        "id": "OrduekiP9TQt",
        "outputId": "f5d9b8c1-ef07-4250-8f25-78aee5fb8a70"
      },
      "execution_count": null,
      "outputs": [
        {
          "output_type": "stream",
          "name": "stdout",
          "text": [
            "02_double_list\n",
            "[2, 4, 6, 8, 10, 12, 14, 16]\n"
          ]
        }
      ]
    },
    {
      "cell_type": "code",
      "source": [
        "print(\"04_flowing_with_data_structures\")\n",
        "\n",
        "def add_three_copies(lst,data):\n",
        "  for i in range(3):\n",
        "    lst.append(data)\n",
        "\n",
        "def main():\n",
        "  message = input(\"\\033[1;3m Enter a message:\")\n",
        "  lst=[]\n",
        "  print(\"Before list: \", lst)\n",
        "  add_three_copies(lst,message)\n",
        "  print(\"After lst:\", lst)\n",
        "\n",
        "if __name__ == \"__main__\":\n",
        "  main()"
      ],
      "metadata": {
        "colab": {
          "base_uri": "https://localhost:8080/"
        },
        "id": "7PWBf-BlJfDS",
        "outputId": "c4e57adb-7525-4a63-e323-6e9d22e5349c"
      },
      "execution_count": null,
      "outputs": [
        {
          "output_type": "stream",
          "name": "stdout",
          "text": [
            "04_flowing_with_data_structures\n",
            "\u001b[1;3m Enter a message:What's up\n",
            "Before list:  []\n",
            "After lst: [\"What's up\", \"What's up\", \"What's up\"]\n"
          ]
        }
      ]
    },
    {
      "cell_type": "code",
      "source": [
        "print(\"05_get_first_element\")\n",
        "\n",
        "def get_first_element(lst):\n",
        "  print(lst[0])\n",
        "\n",
        "def get_lst():\n",
        "  lst =[]\n",
        "  elem:str = input(\"Enter an element:\")\n",
        "  while elem != \"\":\n",
        "    lst.append(elem)\n",
        "    elem = input(\"Enter an element:\")\n",
        "  return lst\n",
        "\n",
        "def main():\n",
        " lst = get_lst()\n",
        " get_first_element(lst)\n",
        "\n",
        "if __name__ ==\"__main__\":\n",
        "  main()\n",
        "\n"
      ],
      "metadata": {
        "colab": {
          "base_uri": "https://localhost:8080/"
        },
        "id": "GwyTEnwvKsXz",
        "outputId": "d32cc964-5a91-4286-be29-78469b3a08e2"
      },
      "execution_count": null,
      "outputs": [
        {
          "output_type": "stream",
          "name": "stdout",
          "text": [
            "05_get_first_element\n",
            "Enter an element:Ghulam\n",
            "Enter an element:Muhammad\n",
            "Enter an element:Memon\n",
            "Enter an element:Muslim\n",
            "Enter an element:\n",
            "Ghulam\n"
          ]
        }
      ]
    },
    {
      "cell_type": "code",
      "source": [
        "print(\"06_get_last_element\")\n",
        "\n",
        "def get_last_element(lst):\n",
        "  print(lst[-1])\n",
        "\n",
        "def get_lst():\n",
        "  lst =[]\n",
        "  elem:str = input(\"Enter an element:\")\n",
        "  while elem != \"\":\n",
        "    lst.append(elem)\n",
        "    elem = input(\"Enter an element:\")\n",
        "  return lst\n",
        "\n",
        "def main():\n",
        " lst = get_lst()\n",
        " get_last_element(lst)\n",
        "\n",
        "if __name__ ==\"__main__\":\n",
        "  main()\n"
      ],
      "metadata": {
        "colab": {
          "base_uri": "https://localhost:8080/"
        },
        "id": "-hL9RxDqNBk6",
        "outputId": "8bb1c22d-e280-4a17-c13d-494d2c0a7184"
      },
      "execution_count": null,
      "outputs": [
        {
          "output_type": "stream",
          "name": "stdout",
          "text": [
            "06_get_last_element\n",
            "Enter an element:GHULAM\n",
            "Enter an element:MUHAMMAD\n",
            "Enter an element:MEMON\n",
            "Enter an element:PAKISTANI\n",
            "Enter an element:\n",
            "PAKISTANI\n"
          ]
        }
      ]
    },
    {
      "cell_type": "code",
      "source": [
        "print(\"07_get_list\")\n",
        "\n",
        "def main():\n",
        "  lst =[]\n",
        "  val = input(\"Enter a value:\")\n",
        "  while val:\n",
        "    lst.append(val)\n",
        "    val = input(\"Enter a value:\")\n",
        "    print(\"Here's the value:\", lst)\n",
        "\n",
        "if __name__ ==\"__main__\":\n",
        "  main()"
      ],
      "metadata": {
        "colab": {
          "base_uri": "https://localhost:8080/"
        },
        "id": "17hCPpSXNgg6",
        "outputId": "a2ad655a-590b-4bfd-a374-159a4999ab6f"
      },
      "execution_count": null,
      "outputs": [
        {
          "output_type": "stream",
          "name": "stdout",
          "text": [
            "07_get_list\n",
            "Enter a value:Ali\n",
            "Enter a value:Safeer\n",
            "Here's the value: ['Ali']\n",
            "Enter a value:Talib\n",
            "Here's the value: ['Ali', 'Safeer']\n",
            "Enter a value:\n",
            "Here's the value: ['Ali', 'Safeer', 'Talib']\n"
          ]
        }
      ]
    },
    {
      "cell_type": "code",
      "source": [
        "print(\"08_shorten\")\n",
        "\n",
        "MAX_LENGTH:int = 3\n",
        "def shorten(lst):\n",
        "  while len(lst) > MAX_LENGTH:\n",
        "        last_elem = lst.pop()\n",
        "        print(last_elem)\n",
        "\n",
        "def get_lst():\n",
        "  lst = []\n",
        "  elem = input(\"Please enter an element of the list:\")\n",
        "  while elem != \"\":\n",
        "    lst.append(elem)\n",
        "    elem = input(\"Please enter an element of the list:\")\n",
        "  return lst\n",
        "\n",
        "def main():\n",
        "    lst = get_lst()\n",
        "    shorten(lst)\n",
        "\n",
        "\n",
        "if __name__ == '__main__':\n",
        "    main()"
      ],
      "metadata": {
        "colab": {
          "base_uri": "https://localhost:8080/"
        },
        "id": "LqyYW4ebOZZT",
        "outputId": "8dfb654a-4e16-4665-bb98-441e3ad7dbfc"
      },
      "execution_count": null,
      "outputs": [
        {
          "output_type": "stream",
          "name": "stdout",
          "text": [
            "08_shorten\n",
            "Please enter an element of the list:m\n",
            "Please enter an element of the list:u\n",
            "Please enter an element of the list:h\n",
            "Please enter an element of the list:a\n",
            "Please enter an element of the list:m\n",
            "Please enter an element of the list:m\n",
            "Please enter an element of the list:a\n",
            "Please enter an element of the list:d\n",
            "Please enter an element of the list:\n",
            "d\n",
            "a\n",
            "m\n",
            "m\n",
            "a\n"
          ]
        }
      ]
    }
  ]
}